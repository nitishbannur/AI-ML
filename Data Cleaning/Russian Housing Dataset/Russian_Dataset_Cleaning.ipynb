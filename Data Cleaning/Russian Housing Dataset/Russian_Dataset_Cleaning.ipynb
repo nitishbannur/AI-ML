{
  "nbformat": 4,
  "nbformat_minor": 0,
  "metadata": {
    "colab": {
      "name": "Data Cleaning Project.ipynb",
      "provenance": [],
      "authorship_tag": "ABX9TyPq7WdpZZndiOXpVp0mc9Yl",
      "include_colab_link": true
    },
    "kernelspec": {
      "name": "python3",
      "display_name": "Python 3"
    }
  },
  "cells": [
    {
      "cell_type": "markdown",
      "metadata": {
        "id": "view-in-github",
        "colab_type": "text"
      },
      "source": [
        "<a href=\"https://colab.research.google.com/github/nitishmcfc/AI-ML/blob/main/Data%20Cleaning/Russian%20Housing%20Dataset/Russian_Dataset_Cleaning.ipynb\" target=\"_parent\"><img src=\"https://colab.research.google.com/assets/colab-badge.svg\" alt=\"Open In Colab\"/></a>"
      ]
    },
    {
      "cell_type": "code",
      "metadata": {
        "id": "tKjK9NmI54i_"
      },
      "source": [
        "import numpy as np\n",
        "import pandas as pd\n",
        "import seaborn as sns\n"
      ],
      "execution_count": null,
      "outputs": []
    },
    {
      "cell_type": "markdown",
      "metadata": {
        "id": "MpX_avAnGSqD"
      },
      "source": [
        "# <u>Russian Housing Market </u>\r\n",
        "### Data Cleaning Project that takes the Russian Housing Market Dataset and converts it in a form that is suitable for analysis."
      ]
    },
    {
      "cell_type": "code",
      "metadata": {
        "id": "tQI1z08c5_xm"
      },
      "source": [
        "from google.colab import files\n",
        "files.upload()"
      ],
      "execution_count": null,
      "outputs": []
    },
    {
      "cell_type": "code",
      "metadata": {
        "id": "KJnk5yrv6Zyv"
      },
      "source": [
        "# Load Russian Housing Market Dataset\r\n",
        "!pip install -q kaggle\r\n",
        "!mkdir -p ~/.kaggle\r\n",
        "!cp kaggle.json ~/.kaggle/\r\n",
        "!chmod 600 /root/.kaggle/kaggle.json\r\n",
        "!kaggle datasets list"
      ],
      "execution_count": 1,
      "outputs": []
    },
    {
      "cell_type": "code",
      "metadata": {
        "id": "qe0vbKyA6mZT",
        "colab": {
          "base_uri": "https://localhost:8080/"
        },
        "outputId": "07e2b389-1741-4e8d-f6b4-519d487fddd4"
      },
      "source": [
        ""
      ],
      "execution_count": null,
      "outputs": [
        {
          "output_type": "stream",
          "text": [
            "Warning: Looks like you're using an outdated API Version, please consider updating (server 1.5.9 / client 1.5.4)\n",
            "ref                                                          title                                           size  lastUpdated          downloadCount  \n",
            "-----------------------------------------------------------  ---------------------------------------------  -----  -------------------  -------------  \n",
            "alexgude/california-traffic-collision-data-from-switrs       California Traffic Collision Data from SWITRS    1GB  2020-11-22 16:51:55            375  \n",
            "babyoda/women-entrepreneurship-and-labor-force               Women Entrepreneurship and Labor Force           1KB  2020-11-21 08:38:51           1400  \n",
            "szymonjanowski/internet-articles-data-with-users-engagement  Internet news data with readers engagement       3MB  2020-11-21 17:09:57            600  \n",
            "sakshigoyal7/credit-card-customers                           Credit Card customers                          379KB  2020-11-19 07:38:44           2539  \n",
            "imoore/2020-us-general-election-turnout-rates                2020 US General Election Turnout rates           4KB  2020-11-26 00:21:15            892  \n",
            "afrniomelo/3w-dataset                                        3W Dataset - Undesirable events in oil wells   658MB  2020-11-21 21:22:49             93  \n",
            "patrickb1912/ipl-complete-dataset-20082020                   IPL Complete Dataset (2008-2020)                 1MB  2020-11-23 06:53:37            642  \n",
            "mrmorj/us-politicians-twitter-dataset                        US Politicians Twitter Dataset                  68KB  2020-11-23 09:54:05            222  \n",
            "arioboo/clumps-in-vela-galaxy-images                         Clumps in VELA galaxy images                     8MB  2020-11-23 13:42:09             80  \n",
            "shivamb/netflix-shows                                        Netflix Movies and TV Shows                    971KB  2020-01-20 07:33:56          66472  \n",
            "unanimad/us-election-2020                                    US Election 2020                               430KB  2020-11-29 14:53:02           9718  \n",
            "antgoldbloom/covid19-data-from-john-hopkins-university       COVID-19 data from John Hopkins University       3MB  2020-11-30 14:45:44           5440  \n",
            "manchunhui/us-election-2020-tweets                           US Election 2020 Tweets                        353MB  2020-11-09 18:51:59           3820  \n",
            "sootersaalu/amazon-top-50-bestselling-books-2009-2019        Amazon Top 50 Bestselling Books 2009 - 2019     15KB  2020-10-13 09:39:21           6710  \n",
            "terenceshin/covid19s-impact-on-airport-traffic               COVID-19's Impact on Airport Traffic           106KB  2020-10-19 12:40:17           6106  \n",
            "nehaprabhavalkar/indian-food-101                             Indian Food 101                                  7KB  2020-09-30 06:23:43           8643  \n",
            "datasnaek/youtube-new                                        Trending YouTube Video Statistics              201MB  2019-06-03 00:56:47         117985  \n",
            "zynicide/wine-reviews                                        Wine Reviews                                    51MB  2017-11-27 17:08:04         120966  \n",
            "google/tinyquickdraw                                         QuickDraw Sketches                              11GB  2018-04-18 19:38:04           2553  \n",
            "karangadiya/fifa19                                           FIFA 19 complete player dataset                  2MB  2018-12-21 03:52:59         106723  \n"
          ],
          "name": "stdout"
        }
      ]
    },
    {
      "cell_type": "code",
      "metadata": {
        "id": "d5mr05bg6w9J",
        "colab": {
          "base_uri": "https://localhost:8080/"
        },
        "outputId": "04cde118-1aa3-4939-fa13-3a941a8fe31b"
      },
      "source": [
        "!mkdir data\n",
        "!cd data\n",
        "!kaggle competitions download -c sberbank-russian-housing-market"
      ],
      "execution_count": null,
      "outputs": [
        {
          "output_type": "stream",
          "text": [
            "Warning: Looks like you're using an outdated API Version, please consider updating (server 1.5.9 / client 1.5.4)\n",
            "Downloading sample_submission.csv.zip to /content\n",
            "  0% 0.00/18.6k [00:00<?, ?B/s]\n",
            "100% 18.6k/18.6k [00:00<00:00, 7.67MB/s]\n",
            "Downloading test.csv.zip to /content\n",
            "  0% 0.00/4.46M [00:00<?, ?B/s]\n",
            "100% 4.46M/4.46M [00:00<00:00, 73.0MB/s]\n",
            "Downloading data_dictionary.txt to /content\n",
            "  0% 0.00/25.4k [00:00<?, ?B/s]\n",
            "100% 25.4k/25.4k [00:00<00:00, 30.8MB/s]\n",
            "Downloading train.csv.zip to /content\n",
            " 53% 9.00M/17.1M [00:00<00:00, 46.1MB/s]\n",
            "100% 17.1M/17.1M [00:00<00:00, 67.6MB/s]\n",
            "Downloading macro.csv.zip to /content\n",
            "  0% 0.00/66.5k [00:00<?, ?B/s]\n",
            "100% 66.5k/66.5k [00:00<00:00, 57.2MB/s]\n"
          ],
          "name": "stdout"
        }
      ]
    },
    {
      "cell_type": "code",
      "metadata": {
        "id": "KhQCUnwx7eVv",
        "colab": {
          "base_uri": "https://localhost:8080/"
        },
        "outputId": "bb1351dc-3577-4458-f26d-3502e50fccc8"
      },
      "source": [
        "!unzip train.csv.zip -d data"
      ],
      "execution_count": null,
      "outputs": [
        {
          "output_type": "stream",
          "text": [
            "Archive:  train.csv.zip\n",
            "  inflating: data/train.csv          \n",
            "   creating: data/__MACOSX/\n",
            "  inflating: data/__MACOSX/._train.csv  \n"
          ],
          "name": "stdout"
        }
      ]
    },
    {
      "cell_type": "code",
      "metadata": {
        "id": "UEmW2rAl7oaq"
      },
      "source": [
        "#Loading the train dataset into a dataframe\r\n",
        "df=pd.read_csv('./data/train.csv')"
      ],
      "execution_count": null,
      "outputs": []
    },
    {
      "cell_type": "code",
      "metadata": {
        "id": "wRvsj9Rm8-Qa",
        "colab": {
          "base_uri": "https://localhost:8080/"
        },
        "outputId": "e9ab13c8-626e-41de-93b9-ba4c0971d3cb"
      },
      "source": [
        "df.shape"
      ],
      "execution_count": null,
      "outputs": [
        {
          "output_type": "execute_result",
          "data": {
            "text/plain": [
              "(30471, 292)"
            ]
          },
          "metadata": {
            "tags": []
          },
          "execution_count": 11
        }
      ]
    },
    {
      "cell_type": "markdown",
      "metadata": {
        "id": "jJ6aydhKGurt"
      },
      "source": [
        "####  Using a heatmap to check the distribution of null and non-null values across various columns in the dataset."
      ]
    },
    {
      "cell_type": "code",
      "metadata": {
        "id": "MTi2jdUW9Irm",
        "colab": {
          "base_uri": "https://localhost:8080/",
          "height": 436
        },
        "outputId": "71b3fbf5-c3c4-4f76-fee5-8f6cae210e06"
      },
      "source": [
        "#Heatmap of first 30 columns to show what percentage of them are null\n",
        "cols=df.columns[:30]\n",
        "colours = ['#000099', '#ffff00'] \n",
        "sns.heatmap(df[cols].isnull(),cmap=sns.color_palette(colours))"
      ],
      "execution_count": null,
      "outputs": [
        {
          "output_type": "execute_result",
          "data": {
            "text/plain": [
              "<matplotlib.axes._subplots.AxesSubplot at 0x7f523d3baeb8>"
            ]
          },
          "metadata": {
            "tags": []
          },
          "execution_count": 12
        },
        {
          "output_type": "display_data",
          "data": {
            "image/png": "[encoded data removed]",
            "text/plain": [
              "<Figure size 432x288 with 2 Axes>"
            ]
          },
          "metadata": {
            "tags": [],
            "needs_background": "light"
          }
        }
      ]
    },
    {
      "cell_type": "markdown",
      "metadata": {
        "id": "aptM8ULWHBeT"
      },
      "source": [
        "#### Inference 1: Out of the first 30 columns, material, number of rooms and states seem to have the highest number of null entries"
      ]
    },
    {
      "cell_type": "code",
      "metadata": {
        "id": "nHsmTkkpClvt",
        "colab": {
          "base_uri": "https://localhost:8080/"
        },
        "outputId": "aa594517-614f-4456-fcd6-936fb17e9723"
      },
      "source": [
        "#Alternatively, calculating the percentage of missing entries in each of the columns\n",
        "#Missin Column Percentage\n",
        "missing_dict={}\n",
        "for col in df.columns:\n",
        "  missing=np.mean(df[col].isnull())\n",
        "  if missing!=0.0:\n",
        "    print(col,\" percentage missing: \",round(missing,2))"
      ],
      "execution_count": null,
      "outputs": [
        {
          "output_type": "stream",
          "text": [
            "life_sq  percentage missing:  0.21\n",
            "floor  percentage missing:  0.01\n",
            "max_floor  percentage missing:  0.31\n",
            "material  percentage missing:  0.31\n",
            "build_year  percentage missing:  0.45\n",
            "num_room  percentage missing:  0.31\n",
            "kitch_sq  percentage missing:  0.31\n",
            "state  percentage missing:  0.44\n",
            "preschool_quota  percentage missing:  0.22\n",
            "school_quota  percentage missing:  0.22\n",
            "hospital_beds_raion  percentage missing:  0.47\n",
            "raion_build_count_with_material_info  percentage missing:  0.16\n",
            "build_count_block  percentage missing:  0.16\n",
            "build_count_wood  percentage missing:  0.16\n",
            "build_count_frame  percentage missing:  0.16\n",
            "build_count_brick  percentage missing:  0.16\n",
            "build_count_monolith  percentage missing:  0.16\n",
            "build_count_panel  percentage missing:  0.16\n",
            "build_count_foam  percentage missing:  0.16\n",
            "build_count_slag  percentage missing:  0.16\n",
            "build_count_mix  percentage missing:  0.16\n",
            "raion_build_count_with_builddate_info  percentage missing:  0.16\n",
            "build_count_before_1920  percentage missing:  0.16\n",
            "build_count_1921-1945  percentage missing:  0.16\n",
            "build_count_1946-1970  percentage missing:  0.16\n",
            "build_count_1971-1995  percentage missing:  0.16\n",
            "build_count_after_1995  percentage missing:  0.16\n",
            "metro_min_walk  percentage missing:  0.0\n",
            "metro_km_walk  percentage missing:  0.0\n",
            "railroad_station_walk_km  percentage missing:  0.0\n",
            "railroad_station_walk_min  percentage missing:  0.0\n",
            "ID_railroad_station_walk  percentage missing:  0.0\n",
            "cafe_sum_500_min_price_avg  percentage missing:  0.44\n",
            "cafe_sum_500_max_price_avg  percentage missing:  0.44\n",
            "cafe_avg_price_500  percentage missing:  0.44\n",
            "cafe_sum_1000_min_price_avg  percentage missing:  0.21\n",
            "cafe_sum_1000_max_price_avg  percentage missing:  0.21\n",
            "cafe_avg_price_1000  percentage missing:  0.21\n",
            "cafe_sum_1500_min_price_avg  percentage missing:  0.14\n",
            "cafe_sum_1500_max_price_avg  percentage missing:  0.14\n",
            "cafe_avg_price_1500  percentage missing:  0.14\n",
            "cafe_sum_2000_min_price_avg  percentage missing:  0.06\n",
            "cafe_sum_2000_max_price_avg  percentage missing:  0.06\n",
            "cafe_avg_price_2000  percentage missing:  0.06\n",
            "cafe_sum_3000_min_price_avg  percentage missing:  0.03\n",
            "cafe_sum_3000_max_price_avg  percentage missing:  0.03\n",
            "cafe_avg_price_3000  percentage missing:  0.03\n",
            "prom_part_5000  percentage missing:  0.01\n",
            "cafe_sum_5000_min_price_avg  percentage missing:  0.01\n",
            "cafe_sum_5000_max_price_avg  percentage missing:  0.01\n",
            "cafe_avg_price_5000  percentage missing:  0.01\n"
          ],
          "name": "stdout"
        }
      ]
    },
    {
      "cell_type": "code",
      "metadata": {
        "id": "daqapGxQGjWF",
        "colab": {
          "base_uri": "https://localhost:8080/",
          "height": 1000
        },
        "outputId": "569a88e5-3eb3-4aa5-dd73-a94e0a918e1d"
      },
      "source": [
        "#Creating Histogram of Missing values\n",
        "\n",
        "for col in df.columns:\n",
        "  missing=df[col].isnull()\n",
        "  num_missing=np.sum(missing)\n",
        "\n",
        "  if num_missing>0:\n",
        "    print('created missing indicator for: {}'.format(col))\n",
        "    df['{}_ismissing'.format(col)]=missing\n",
        "\n",
        "#plotting hist\n",
        "ismissingcols=[col for col in df.columns if 'ismissing' in col]\n",
        "df['num_missing']=df[ismissingcols].sum(axis=1)\n",
        "\n",
        "df['num_missing'].value_counts().reset_index().sort_values(by='index').plot.bar(x='index',y='num_missing')"
      ],
      "execution_count": null,
      "outputs": [
        {
          "output_type": "stream",
          "text": [
            "created missing indicator for: life_sq\n",
            "created missing indicator for: floor\n",
            "created missing indicator for: max_floor\n",
            "created missing indicator for: material\n",
            "created missing indicator for: build_year\n",
            "created missing indicator for: num_room\n",
            "created missing indicator for: kitch_sq\n",
            "created missing indicator for: state\n",
            "created missing indicator for: preschool_quota\n",
            "created missing indicator for: school_quota\n",
            "created missing indicator for: hospital_beds_raion\n",
            "created missing indicator for: raion_build_count_with_material_info\n",
            "created missing indicator for: build_count_block\n",
            "created missing indicator for: build_count_wood\n",
            "created missing indicator for: build_count_frame\n",
            "created missing indicator for: build_count_brick\n",
            "created missing indicator for: build_count_monolith\n",
            "created missing indicator for: build_count_panel\n",
            "created missing indicator for: build_count_foam\n",
            "created missing indicator for: build_count_slag\n",
            "created missing indicator for: build_count_mix\n",
            "created missing indicator for: raion_build_count_with_builddate_info\n",
            "created missing indicator for: build_count_before_1920\n",
            "created missing indicator for: build_count_1921-1945\n",
            "created missing indicator for: build_count_1946-1970\n",
            "created missing indicator for: build_count_1971-1995\n",
            "created missing indicator for: build_count_after_1995\n",
            "created missing indicator for: metro_min_walk\n",
            "created missing indicator for: metro_km_walk\n",
            "created missing indicator for: railroad_station_walk_km\n",
            "created missing indicator for: railroad_station_walk_min\n",
            "created missing indicator for: ID_railroad_station_walk\n",
            "created missing indicator for: cafe_sum_500_min_price_avg\n",
            "created missing indicator for: cafe_sum_500_max_price_avg\n",
            "created missing indicator for: cafe_avg_price_500\n",
            "created missing indicator for: cafe_sum_1000_min_price_avg\n",
            "created missing indicator for: cafe_sum_1000_max_price_avg\n",
            "created missing indicator for: cafe_avg_price_1000\n",
            "created missing indicator for: cafe_sum_1500_min_price_avg\n",
            "created missing indicator for: cafe_sum_1500_max_price_avg\n",
            "created missing indicator for: cafe_avg_price_1500\n",
            "created missing indicator for: cafe_sum_2000_min_price_avg\n",
            "created missing indicator for: cafe_sum_2000_max_price_avg\n",
            "created missing indicator for: cafe_avg_price_2000\n",
            "created missing indicator for: cafe_sum_3000_min_price_avg\n",
            "created missing indicator for: cafe_sum_3000_max_price_avg\n",
            "created missing indicator for: cafe_avg_price_3000\n",
            "created missing indicator for: prom_part_5000\n",
            "created missing indicator for: cafe_sum_5000_min_price_avg\n",
            "created missing indicator for: cafe_sum_5000_max_price_avg\n",
            "created missing indicator for: cafe_avg_price_5000\n"
          ],
          "name": "stdout"
        },
        {
          "output_type": "execute_result",
          "data": {
            "text/plain": [
              "<matplotlib.axes._subplots.AxesSubplot at 0x7f523aae5470>"
            ]
          },
          "metadata": {
            "tags": []
          },
          "execution_count": 14
        },
        {
          "output_type": "display_data",
          "data": {
            "image/png": "[encoded data removed]",
            "text/plain": [
              "<Figure size 432x288 with 1 Axes>"
            ]
          },
          "metadata": {
            "tags": [],
            "needs_background": "light"
          }
        }
      ]
    },
    {
      "cell_type": "markdown",
      "metadata": {
        "id": "NqAsr61eHWR6"
      },
      "source": [
        "#### Ways to deal with the missing rows\r\n",
        "Method 1: Drop all rows where the missing percentage is greater than a particular threshold. (In this case, I have considered it as 35%)"
      ]
    },
    {
      "cell_type": "code",
      "metadata": {
        "id": "Tlj6yx8l2cXl"
      },
      "source": [
        "ind_missing=df[df['num_missing'] >35].index\n",
        "df_less_missing_rows=df.drop(ind_missing,axis=0)"
      ],
      "execution_count": null,
      "outputs": []
    },
    {
      "cell_type": "code",
      "metadata": {
        "id": "-FaEbTpb-ZMl"
      },
      "source": [
        "df_less_hos_beds_raion =df_less_missing_rows.drop('hospital_beds_raion',axis=1)"
      ],
      "execution_count": null,
      "outputs": []
    },
    {
      "cell_type": "code",
      "metadata": {
        "id": "RsIQm0ly_iFI"
      },
      "source": [
        "##Replacing Missing Data with Average/Median\n"
      ],
      "execution_count": null,
      "outputs": []
    },
    {
      "cell_type": "markdown",
      "metadata": {
        "id": "hn1GaN3bHsLF"
      },
      "source": [
        "Method 2: Replace the missing entries with median"
      ]
    },
    {
      "cell_type": "code",
      "metadata": {
        "id": "EcBtChiERSom"
      },
      "source": [
        "life_sq_med=df['life_sq'].median()\n",
        "df['life_sq']=df['life_sq'].fillna(life_sq_med)"
      ],
      "execution_count": null,
      "outputs": []
    },
    {
      "cell_type": "code",
      "metadata": {
        "id": "yHy840-OU4IU"
      },
      "source": [
        "#Applying Imputation across all features"
      ],
      "execution_count": null,
      "outputs": []
    },
    {
      "cell_type": "code",
      "metadata": {
        "colab": {
          "base_uri": "https://localhost:8080/"
        },
        "id": "LbFmAX8_VMw0",
        "outputId": "a508b6e9-d4b4-4853-d746-5e3c25d1b0ae"
      },
      "source": [
        "df_numeric=df.select_dtypes(include='number')\n",
        "numeric_cols=df_numeric.columns.values\n",
        "#print(numeric_cols)\n",
        "\n",
        "for col in numeric_cols:\n",
        "  missing=df[col].isnull()\n",
        "  num_missing=np.sum(missing)\n",
        "\n",
        "  if num_missing>0:\n",
        "    print('Imputing for {}'.format(col))\n",
        "    df['{}_missing'.format(col)]=missing\n",
        "    med=df[col].median()\n",
        "    df[col]=df[col].fillna(med)\n",
        "    "
      ],
      "execution_count": null,
      "outputs": [
        {
          "output_type": "stream",
          "text": [
            "Imputing for floor\n",
            "Imputing for max_floor\n",
            "Imputing for material\n",
            "Imputing for build_year\n",
            "Imputing for num_room\n",
            "Imputing for kitch_sq\n",
            "Imputing for state\n",
            "Imputing for preschool_quota\n",
            "Imputing for school_quota\n",
            "Imputing for hospital_beds_raion\n",
            "Imputing for raion_build_count_with_material_info\n",
            "Imputing for build_count_block\n",
            "Imputing for build_count_wood\n",
            "Imputing for build_count_frame\n",
            "Imputing for build_count_brick\n",
            "Imputing for build_count_monolith\n",
            "Imputing for build_count_panel\n",
            "Imputing for build_count_foam\n",
            "Imputing for build_count_slag\n",
            "Imputing for build_count_mix\n",
            "Imputing for raion_build_count_with_builddate_info\n",
            "Imputing for build_count_before_1920\n",
            "Imputing for build_count_1921-1945\n",
            "Imputing for build_count_1946-1970\n",
            "Imputing for build_count_1971-1995\n",
            "Imputing for build_count_after_1995\n",
            "Imputing for metro_min_walk\n",
            "Imputing for metro_km_walk\n",
            "Imputing for railroad_station_walk_km\n",
            "Imputing for railroad_station_walk_min\n",
            "Imputing for ID_railroad_station_walk\n",
            "Imputing for cafe_sum_500_min_price_avg\n",
            "Imputing for cafe_sum_500_max_price_avg\n",
            "Imputing for cafe_avg_price_500\n",
            "Imputing for cafe_sum_1000_min_price_avg\n",
            "Imputing for cafe_sum_1000_max_price_avg\n",
            "Imputing for cafe_avg_price_1000\n",
            "Imputing for cafe_sum_1500_min_price_avg\n",
            "Imputing for cafe_sum_1500_max_price_avg\n",
            "Imputing for cafe_avg_price_1500\n",
            "Imputing for cafe_sum_2000_min_price_avg\n",
            "Imputing for cafe_sum_2000_max_price_avg\n",
            "Imputing for cafe_avg_price_2000\n",
            "Imputing for cafe_sum_3000_min_price_avg\n",
            "Imputing for cafe_sum_3000_max_price_avg\n",
            "Imputing for cafe_avg_price_3000\n",
            "Imputing for prom_part_5000\n",
            "Imputing for cafe_sum_5000_min_price_avg\n",
            "Imputing for cafe_sum_5000_max_price_avg\n",
            "Imputing for cafe_avg_price_5000\n"
          ],
          "name": "stdout"
        }
      ]
    },
    {
      "cell_type": "code",
      "metadata": {
        "id": "lyZcvpwXVfry"
      },
      "source": [
        ""
      ],
      "execution_count": null,
      "outputs": []
    },
    {
      "cell_type": "markdown",
      "metadata": {
        "id": "TFzkpdsUH2Sq"
      },
      "source": [
        ""
      ]
    },
    {
      "cell_type": "code",
      "metadata": {
        "id": "UBllvaiJXW1s"
      },
      "source": [
        "#Dealing with Outliers\n",
        "\n",
        "#Check for outliers\n",
        "#Methods\n",
        "#1. Boxplots"
      ],
      "execution_count": null,
      "outputs": []
    },
    {
      "cell_type": "code",
      "metadata": {
        "colab": {
          "base_uri": "https://localhost:8080/",
          "height": 282
        },
        "id": "4mJl54kEZFG0",
        "outputId": "5e13794c-e714-4c15-aa19-1bc0eff78d1d"
      },
      "source": [
        "df['life_sq'].hist(bins=100)"
      ],
      "execution_count": null,
      "outputs": [
        {
          "output_type": "execute_result",
          "data": {
            "text/plain": [
              "<matplotlib.axes._subplots.AxesSubplot at 0x7f52399e5128>"
            ]
          },
          "metadata": {
            "tags": []
          },
          "execution_count": 23
        },
        {
          "output_type": "display_data",
          "data": {
            "image/png": "[encoded data removed]",
            "text/plain": [
              "<Figure size 432x288 with 1 Axes>"
            ]
          },
          "metadata": {
            "tags": [],
            "needs_background": "light"
          }
        }
      ]
    },
    {
      "cell_type": "code",
      "metadata": {
        "colab": {
          "base_uri": "https://localhost:8080/",
          "height": 283
        },
        "id": "3wqtQ6dWZHwp",
        "outputId": "5f4b0c7d-8869-40be-fd6e-7c74e157a62a"
      },
      "source": [
        "df.boxplot(column=['life_sq'])"
      ],
      "execution_count": null,
      "outputs": [
        {
          "output_type": "execute_result",
          "data": {
            "text/plain": [
              "<matplotlib.axes._subplots.AxesSubplot at 0x7f523986ed30>"
            ]
          },
          "metadata": {
            "tags": []
          },
          "execution_count": 24
        },
        {
          "output_type": "display_data",
          "data": {
            "image/png": "[encoded data removed]",
            "text/plain": [
              "<Figure size 432x288 with 1 Axes>"
            ]
          },
          "metadata": {
            "tags": [],
            "needs_background": "light"
          }
        }
      ]
    },
    {
      "cell_type": "code",
      "metadata": {
        "colab": {
          "base_uri": "https://localhost:8080/"
        },
        "id": "MIqBo_naZTZH",
        "outputId": "cd0b4155-ba1d-4df5-9f33-2856cdf9e89d"
      },
      "source": [
        "df['life_sq'].describe()"
      ],
      "execution_count": null,
      "outputs": [
        {
          "output_type": "execute_result",
          "data": {
            "text/plain": [
              "count    30471.000000\n",
              "mean        33.480883\n",
              "std         46.522251\n",
              "min          0.000000\n",
              "25%         22.000000\n",
              "50%         30.000000\n",
              "75%         38.000000\n",
              "max       7478.000000\n",
              "Name: life_sq, dtype: float64"
            ]
          },
          "metadata": {
            "tags": []
          },
          "execution_count": 25
        }
      ]
    },
    {
      "cell_type": "markdown",
      "metadata": {
        "id": "R70THd8t1YVZ"
      },
      "source": [
        "#Options for Categorical Variables:\r\n",
        "  #1. Replace with mode\r\n",
        "  #2. Replace with _MISSING_\r\n",
        "  "
      ]
    },
    {
      "cell_type": "code",
      "metadata": {
        "colab": {
          "base_uri": "https://localhost:8080/",
          "height": 331
        },
        "id": "R4kd5tRHZjCT",
        "outputId": "1e08c6ed-2863-49e9-f05f-007f2bc1683f"
      },
      "source": [
        "df['ecology'].value_counts().plot.bar()\n"
      ],
      "execution_count": null,
      "outputs": [
        {
          "output_type": "execute_result",
          "data": {
            "text/plain": [
              "<matplotlib.axes._subplots.AxesSubplot at 0x7f52399792b0>"
            ]
          },
          "metadata": {
            "tags": []
          },
          "execution_count": 27
        },
        {
          "output_type": "display_data",
          "data": {
            "image/png": "[encoded data removed]",
            "text/plain": [
              "<Figure size 432x288 with 1 Axes>"
            ]
          },
          "metadata": {
            "tags": [],
            "needs_background": "light"
          }
        }
      ]
    },
    {
      "cell_type": "code",
      "metadata": {
        "id": "EdK-Hd5vZnac"
      },
      "source": [
        "#Note: Look at scatter plots"
      ],
      "execution_count": null,
      "outputs": []
    },
    {
      "cell_type": "code",
      "metadata": {
        "colab": {
          "base_uri": "https://localhost:8080/"
        },
        "id": "a6kMbAk9ewnn",
        "outputId": "77717d11-fb4e-455d-f914-8db28d8ae040"
      },
      "source": [
        "#Repetitive/ Uninformative Data\n",
        "\n",
        "##Find out columns with more than 95% of the rows having the same value\n",
        "\n",
        "threshold=0.95\n",
        "num_rows=len(df)\n",
        "low_information_cols=[]\n",
        "for col in df.columns:\n",
        "  counts=df[col].value_counts()\n",
        "  top_count=(counts/num_rows).iloc[0]\n",
        "\n",
        "  if top_count>threshold:\n",
        "    low_information_cols.append(col)\n",
        "  \n",
        "print('columns exceeding threshold are: \\n',low_information_cols)"
      ],
      "execution_count": null,
      "outputs": [
        {
          "output_type": "stream",
          "text": [
            "columns exceeding threshold are: \n",
            " ['oil_chemistry_raion', 'railroad_terminal_raion', 'nuclear_reactor_raion', 'build_count_foam', 'big_road1_1line', 'railroad_1line', 'cafe_count_500_price_high', 'mosque_count_500', 'cafe_count_1000_price_high', 'mosque_count_1000', 'mosque_count_1500', 'floor_ismissing', 'metro_min_walk_ismissing', 'metro_km_walk_ismissing', 'railroad_station_walk_km_ismissing', 'railroad_station_walk_min_ismissing', 'ID_railroad_station_walk_ismissing', 'cafe_sum_3000_min_price_avg_ismissing', 'cafe_sum_3000_max_price_avg_ismissing', 'cafe_avg_price_3000_ismissing', 'prom_part_5000_ismissing', 'cafe_sum_5000_min_price_avg_ismissing', 'cafe_sum_5000_max_price_avg_ismissing', 'cafe_avg_price_5000_ismissing', 'floor_missing', 'metro_min_walk_missing', 'metro_km_walk_missing', 'railroad_station_walk_km_missing', 'railroad_station_walk_min_missing', 'ID_railroad_station_walk_missing', 'cafe_sum_3000_min_price_avg_missing', 'cafe_sum_3000_max_price_avg_missing', 'cafe_avg_price_3000_missing', 'prom_part_5000_missing', 'cafe_sum_5000_min_price_avg_missing', 'cafe_sum_5000_max_price_avg_missing', 'cafe_avg_price_5000_missing']\n"
          ],
          "name": "stdout"
        }
      ]
    },
    {
      "cell_type": "code",
      "metadata": {
        "colab": {
          "base_uri": "https://localhost:8080/"
        },
        "id": "4fIo1w7KgFbI",
        "outputId": "8453bc49-41fd-4fc0-f238-d7b8b92aa6f0"
      },
      "source": [
        "#Removing Key Based Duplicates\n",
        "\n",
        "main_features=['timestamp', 'full_sq', 'life_sq', 'floor', 'build_year', 'num_room', 'price_doc']\n",
        "\n",
        "df.fillna(-999).groupby(main_features)['id'].count().head(20)"
      ],
      "execution_count": null,
      "outputs": [
        {
          "output_type": "execute_result",
          "data": {
            "text/plain": [
              "timestamp   full_sq  life_sq  floor  build_year  num_room  price_doc\n",
              "2011-08-20  43       27.0     4.0    1979.0      2.0       5850000      1\n",
              "2011-08-23  34       19.0     3.0    1979.0      2.0       6000000      1\n",
              "2011-08-27  43       29.0     2.0    1979.0      2.0       5700000      1\n",
              "2011-09-01  89       50.0     9.0    1979.0      2.0       13100000     1\n",
              "2011-09-05  77       77.0     4.0    1979.0      2.0       16331452     1\n",
              "2011-09-06  67       46.0     14.0   1979.0      2.0       9100000      1\n",
              "2011-09-08  25       14.0     10.0   1979.0      2.0       5500000      1\n",
              "2011-09-09  44       44.0     5.0    1979.0      2.0       2000000      1\n",
              "2011-09-10  42       27.0     5.0    1979.0      2.0       5300000      1\n",
              "2011-09-13  36       21.0     9.0    1979.0      2.0       2000000      1\n",
              "2011-09-16  36       19.0     12.0   1979.0      2.0       4650000      1\n",
              "            38       19.0     11.0   1979.0      2.0       4800000      1\n",
              "2011-09-17  43       28.0     4.0    1979.0      2.0       5100000      1\n",
              "2011-09-19  31       21.0     3.0    1979.0      2.0       5000000      1\n",
              "                     31.0     4.0    1979.0      2.0       5200000      1\n",
              "2011-09-20  42       28.0     2.0    1979.0      2.0       5900000      1\n",
              "            47       31.0     4.0    1979.0      2.0       6300000      1\n",
              "            51       31.0     15.0   1979.0      2.0       1850000      1\n",
              "2011-09-22  39       39.0     7.0    1979.0      2.0       5200000      1\n",
              "            44       29.0     4.0    1979.0      2.0       5200000      1\n",
              "Name: id, dtype: int64"
            ]
          },
          "metadata": {
            "tags": []
          },
          "execution_count": 30
        }
      ]
    },
    {
      "cell_type": "code",
      "metadata": {
        "id": "4ets_lRzkOcG"
      },
      "source": [
        "#Drop common rows\n",
        "\n",
        "df=df.drop_duplicates(subset=main_features)"
      ],
      "execution_count": null,
      "outputs": []
    },
    {
      "cell_type": "markdown",
      "metadata": {
        "id": "SR2O1IuG1caE"
      },
      "source": [
        "#### Miscellaneous Cleaning:\r\n",
        "1. Check Captilizations\r\n",
        "2. Convert timestamp into appropriate pandas datatype\r\n"
      ]
    },
    {
      "cell_type": "code",
      "metadata": {
        "colab": {
          "base_uri": "https://localhost:8080/"
        },
        "id": "q4paiTvok_on",
        "outputId": "a2d6c3f0-f7c4-425c-a394-8073388c4c8e"
      },
      "source": [
        "#cHECK Capitalization\n",
        "\n",
        "df['sub_area'].value_counts()"
      ],
      "execution_count": null,
      "outputs": [
        {
          "output_type": "execute_result",
          "data": {
            "text/plain": [
              "Poselenie Sosenskoe               1772\n",
              "Nekrasovka                        1609\n",
              "Poselenie Vnukovskoe              1370\n",
              "Poselenie Moskovskij               925\n",
              "Poselenie Voskresenskoe            713\n",
              "                                  ... \n",
              "Molzhaninovskoe                      3\n",
              "Poselenie Kievskij                   2\n",
              "Poselenie Shhapovskoe                2\n",
              "Poselenie Klenovskoe                 1\n",
              "Poselenie Mihajlovo-Jarcevskoe       1\n",
              "Name: sub_area, Length: 146, dtype: int64"
            ]
          },
          "metadata": {
            "tags": []
          },
          "execution_count": 32
        }
      ]
    },
    {
      "cell_type": "code",
      "metadata": {
        "colab": {
          "base_uri": "https://localhost:8080/"
        },
        "id": "1Hj_BlACl1kL",
        "outputId": "2bafc089-afcd-4c43-932a-cdaca4bcb671"
      },
      "source": [
        "df['sub_area']=df['sub_area'].str.lower()\n",
        "df['sub_area'].value_counts()"
      ],
      "execution_count": null,
      "outputs": [
        {
          "output_type": "execute_result",
          "data": {
            "text/plain": [
              "poselenie sosenskoe               1772\n",
              "nekrasovka                        1609\n",
              "poselenie vnukovskoe              1370\n",
              "poselenie moskovskij               925\n",
              "poselenie voskresenskoe            713\n",
              "                                  ... \n",
              "molzhaninovskoe                      3\n",
              "poselenie shhapovskoe                2\n",
              "poselenie kievskij                   2\n",
              "poselenie mihajlovo-jarcevskoe       1\n",
              "poselenie klenovskoe                 1\n",
              "Name: sub_area, Length: 146, dtype: int64"
            ]
          },
          "metadata": {
            "tags": []
          },
          "execution_count": 33
        }
      ]
    },
    {
      "cell_type": "code",
      "metadata": {
        "id": "7OK8LiObmKxB",
        "colab": {
          "base_uri": "https://localhost:8080/"
        },
        "outputId": "adbd4def-a371-44e8-9858-6f170a989e07"
      },
      "source": [
        "#what is the data type of timestamp\n",
        "\n",
        "type(df['timestamp'][0])"
      ],
      "execution_count": null,
      "outputs": [
        {
          "output_type": "execute_result",
          "data": {
            "text/plain": [
              "str"
            ]
          },
          "metadata": {
            "tags": []
          },
          "execution_count": 35
        }
      ]
    },
    {
      "cell_type": "code",
      "metadata": {
        "id": "hRRubmmXRqcT"
      },
      "source": [
        "df['timestamp']=pd.to_datetime(df['timestamp'])"
      ],
      "execution_count": null,
      "outputs": []
    },
    {
      "cell_type": "code",
      "metadata": {
        "id": "szklqVsaSW2M",
        "colab": {
          "base_uri": "https://localhost:8080/"
        },
        "outputId": "f7abd541-b5fe-40fa-8ef8-6bfb203bf2ee"
      },
      "source": [
        "type(df['timestamp'][0])"
      ],
      "execution_count": null,
      "outputs": [
        {
          "output_type": "execute_result",
          "data": {
            "text/plain": [
              "pandas._libs.tslibs.timestamps.Timestamp"
            ]
          },
          "metadata": {
            "tags": []
          },
          "execution_count": 37
        }
      ]
    }
  ]
}